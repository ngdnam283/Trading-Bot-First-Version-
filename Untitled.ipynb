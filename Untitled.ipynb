{
 "cells": [
  {
   "cell_type": "code",
   "execution_count": 1,
   "id": "f80133bb-c815-4375-9555-95e110f93a5e",
   "metadata": {},
   "outputs": [],
   "source": [
    "from Performance import tester"
   ]
  },
  {
   "cell_type": "code",
   "execution_count": 2,
   "id": "96adaf31-e692-46fa-8474-c23e36c88b0a",
   "metadata": {},
   "outputs": [
    {
     "name": "stdout",
     "output_type": "stream",
     "text": [
      "hello world\n"
     ]
    }
   ],
   "source": [
    "tester()"
   ]
  },
  {
   "cell_type": "code",
   "execution_count": 8,
   "id": "ef5afe15-5689-4a9a-9fa0-29bc428cd93c",
   "metadata": {},
   "outputs": [],
   "source": [
    "from Performance import get_latest_row"
   ]
  },
  {
   "cell_type": "code",
   "execution_count": 10,
   "id": "a2705a98-198f-4e8a-bca6-4d130fceb3ae",
   "metadata": {},
   "outputs": [
    {
     "data": {
      "text/plain": [
       "id                                     1\n",
       "timestamp            2024-12-07 16:16:20\n",
       "pair                             BTCUSDT\n",
       "entry_price                      99512.0\n",
       "exit_price                      99568.01\n",
       "profit_loss                        56.01\n",
       "total_profit_loss                  56.01\n",
       "trade_count                            1\n",
       "win_count                              1\n",
       "loss_count                             0\n",
       "trade_duration                     -36.0\n",
       "dtype: object"
      ]
     },
     "execution_count": 10,
     "metadata": {},
     "output_type": "execute_result"
    }
   ],
   "source": [
    "import sqlalchemy\n",
    "engine = sqlalchemy.create_engine('sqlite:///TradingData.db')\n",
    "get_latest_row(engine, 'bot_performance')"
   ]
  },
  {
   "cell_type": "code",
   "execution_count": 1,
   "id": "04674231-16c4-40cd-9e5f-4db2b613286c",
   "metadata": {},
   "outputs": [
    {
     "name": "stdout",
     "output_type": "stream",
     "text": [
      "Number: 0\n",
      "Number: 1\n",
      "Number: 2\n",
      "Number: 3\n",
      "Number: 4\n",
      "Number: 0\n",
      "Number: 1\n",
      "Number: 2\n",
      "Number: 3\n",
      "Number: 4\n",
      "Threads finished.\n"
     ]
    }
   ],
   "source": [
    "import threading\n",
    "\n",
    "def print_numbers():\n",
    "    for i in range(5):\n",
    "        print(f\"Number: {i}\")\n",
    "\n",
    "# Create threads\n",
    "thread1 = threading.Thread(target=print_numbers)\n",
    "thread2 = threading.Thread(target=print_numbers)\n",
    "\n",
    "# Start threads\n",
    "thread1.start()\n",
    "thread2.start()\n",
    "\n",
    "# Wait for threads to finish\n",
    "thread1.join()\n",
    "thread2.join()\n",
    "\n",
    "print(\"Threads finished.\")\n"
   ]
  },
  {
   "cell_type": "code",
   "execution_count": null,
   "id": "5086a435-533b-4936-8d2d-844b45a7b2f9",
   "metadata": {},
   "outputs": [],
   "source": []
  }
 ],
 "metadata": {
  "kernelspec": {
   "display_name": "Python 3 (ipykernel)",
   "language": "python",
   "name": "python3"
  },
  "language_info": {
   "codemirror_mode": {
    "name": "ipython",
    "version": 3
   },
   "file_extension": ".py",
   "mimetype": "text/x-python",
   "name": "python",
   "nbconvert_exporter": "python",
   "pygments_lexer": "ipython3",
   "version": "3.12.4"
  }
 },
 "nbformat": 4,
 "nbformat_minor": 5
}
