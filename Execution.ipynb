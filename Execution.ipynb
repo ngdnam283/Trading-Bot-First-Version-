{
 "cells": [
  {
   "cell_type": "markdown",
   "id": "6b9141e1-dc23-4ca1-9f21-ab9827e5d5da",
   "metadata": {},
   "source": [
    "## Step 1: Fetch data"
   ]
  },
  {
   "cell_type": "code",
   "execution_count": 2,
   "id": "b061fceb-ee5a-46b4-96f9-055029407c12",
   "metadata": {},
   "outputs": [],
   "source": [
    "import pandas as pd\n",
    "import sqlalchemy"
   ]
  },
  {
   "cell_type": "code",
   "execution_count": 3,
   "id": "fe4038df-8c41-46b8-a165-4628525c3eeb",
   "metadata": {},
   "outputs": [],
   "source": [
    "engine = sqlalchemy.create_engine('sqlite:///TradingData.db')"
   ]
  },
  {
   "cell_type": "code",
   "execution_count": 4,
   "id": "d60fd2c0-bee6-4767-bbf4-79c98693e827",
   "metadata": {},
   "outputs": [],
   "source": [
    "from sqlalchemy import text"
   ]
  },
  {
   "cell_type": "code",
   "execution_count": 5,
   "id": "71922c06-5540-4bb8-94c0-5b1e8cbabafa",
   "metadata": {},
   "outputs": [],
   "source": [
    "def fetch_closest_rows(engine, pair='BTCUSDT', num_rows=100):\n",
    "    query = text(f\"\"\"\n",
    "    SELECT * FROM {pair}\n",
    "    ORDER BY timestamp DESC\n",
    "    LIMIT :num_rows;\n",
    "    \"\"\")  # Fetch the rows in reverse chronological order\n",
    "    with engine.connect() as conn:\n",
    "        df = pd.read_sql(query, conn, params={\"num_rows\": num_rows})  # Use params to pass the LIMIT\n",
    "    # Reverse the DataFrame to get the rows in chronological order\n",
    "    df = df.iloc[::-1].reset_index(drop=True)\n",
    "    df.dropna(inplace=True)\n",
    "    df.set_index('slot', inplace=True)\n",
    "    return df\n"
   ]
  },
  {
   "cell_type": "code",
   "execution_count": 6,
   "id": "a0a167ee-9e5d-4578-a466-4b158a8a7630",
   "metadata": {},
   "outputs": [],
   "source": [
    "def fetch_latest_timestamp(engine, pair='BTCUSDT'):\n",
    "    query = text(f\"\"\"\n",
    "    SELECT timestamp FROM {pair}\n",
    "    ORDER BY timestamp DESC LIMIT 1;\n",
    "    \"\"\")\n",
    "    with engine.connect() as conn:\n",
    "        result = pd.read_sql(query, conn)\n",
    "    if not result.empty:\n",
    "        return result['timestamp'].iloc[0]\n",
    "    return None"
   ]
  },
  {
   "cell_type": "markdown",
   "id": "af0fc810-cbec-4af6-a63b-2f25bc032772",
   "metadata": {},
   "source": [
    "## Step 2: Function to place an order"
   ]
  },
  {
   "cell_type": "code",
   "execution_count": 8,
   "id": "300e870e-a8fb-4a8b-82e9-1aba16646fc9",
   "metadata": {},
   "outputs": [],
   "source": [
    "# !pip install python-dotenv"
   ]
  },
  {
   "cell_type": "code",
   "execution_count": 9,
   "id": "79305d41-7eca-41af-9464-0039eabe5f70",
   "metadata": {},
   "outputs": [],
   "source": [
    "from dotenv import load_dotenv\n",
    "import os"
   ]
  },
  {
   "cell_type": "code",
   "execution_count": 10,
   "id": "3a8a42d2-ff6d-4c7b-a66c-9d5e286cf9a6",
   "metadata": {},
   "outputs": [],
   "source": [
    "load_dotenv()\n",
    "api_key = os.getenv('BINANCE_API_KEY')\n",
    "api_secret = os.getenv('BINANCE_SECRET_KEY')"
   ]
  },
  {
   "cell_type": "code",
   "execution_count": 11,
   "id": "c3204e05-a58e-436f-8236-fc6aa290492f",
   "metadata": {},
   "outputs": [],
   "source": [
    "from binance.client import Client"
   ]
  },
  {
   "cell_type": "code",
   "execution_count": 12,
   "id": "18979b36-3eb0-42a2-8d31-d6ef9ed7143f",
   "metadata": {},
   "outputs": [],
   "source": [
    "client = Client(api_key, api_secret, testnet=True)"
   ]
  },
  {
   "cell_type": "markdown",
   "id": "d5baa672-9503-48ab-85d4-a4cfe5d66018",
   "metadata": {},
   "source": [
    "## Step 3: Strategy"
   ]
  },
  {
   "cell_type": "markdown",
   "id": "ec34320c-ea02-4e64-b331-b04a707338bb",
   "metadata": {},
   "source": [
    "### Step 3.1: Manipulate data"
   ]
  },
  {
   "cell_type": "code",
   "execution_count": 15,
   "id": "901f193a-2cad-46de-acfb-7903edb348a3",
   "metadata": {},
   "outputs": [],
   "source": [
    "def calculate_MA(data, short_window=9, long_windows=[20, 50, 100]):\n",
    "    data['MA9'] = data['close'].rolling(window=short_window).mean()\n",
    "    for window in long_windows:\n",
    "        data[f'MA{window}'] = data['close'].rolling(window=window).mean()\n",
    "    return data\n"
   ]
  },
  {
   "cell_type": "markdown",
   "id": "e8e05977-c4aa-45ba-810a-93a859e571de",
   "metadata": {},
   "source": [
    "### Step 3.2: Check for a signal"
   ]
  },
  {
   "cell_type": "code",
   "execution_count": 17,
   "id": "6f623f3e-c7f5-4d56-8315-796467d1af42",
   "metadata": {},
   "outputs": [],
   "source": [
    "def check_for_buy_signal(data):\n",
    "    \"\"\"\n",
    "    Check if the MA9 crosses over any of the longer MAs (MA20, MA50, MA100).\n",
    "    \"\"\"\n",
    "    ma9 = data['MA9'].iloc[-1]\n",
    "    ma9_prev = data['MA9'].iloc[-2]\n",
    "\n",
    "    for window in [20, 50]:\n",
    "        ma_long = data[f'MA{window}'].iloc[-1]\n",
    "        ma_long_prev = data[f'MA{window}'].iloc[-2]\n",
    "        \n",
    "        # Check for crossover\n",
    "        if ma9_prev < ma_long_prev and ma9 > ma_long:\n",
    "            return True\n",
    "    return False"
   ]
  },
  {
   "cell_type": "code",
   "execution_count": 18,
   "id": "b4dd760d-10ee-49fd-9afb-1688371afee1",
   "metadata": {},
   "outputs": [],
   "source": [
    "def check_for_sell_signal(data, entry_price, current_price):\n",
    "    \"\"\"\n",
    "    Check if the sell condition is met based on:\n",
    "    - Short MA crossing below Long MA\n",
    "    - Profit target (1.3%)\n",
    "    - Stop loss (1%)\n",
    "    \"\"\"\n",
    "    if not data.empty and 'MA9' in data.columns:\n",
    "        ma9 = data['MA9'].iloc[-1]\n",
    "        if pd.notna(ma9):\n",
    "            print(f\"MA9 value: {ma9}\")\n",
    "        else:\n",
    "            print(\"Last value in 'MA9' is NaN.\")\n",
    "    else:\n",
    "        print(\"DataFrame is empty or 'MA9' column not found.\")\n",
    "        \n",
    "    ma9_prev = data['MA9'].iloc[-2]\n",
    "\n",
    "    # Check for crossover (short MA crossing below long MA)\n",
    "    for window in [50, 100]:  # MA50, MA100\n",
    "        ma_long = data[f'MA{window}'].iloc[-1]\n",
    "        ma_long_prev = data[f'MA{window}'].iloc[-2]\n",
    "        \n",
    "        if ma9_prev > ma_long_prev and ma9 < ma_long:\n",
    "            print(\"Sell signal due to MA crossover: MA9 crossed below MA50 or MA100\")\n",
    "            return True\n",
    "    \n",
    "    # Check for profit target (1.3% profit)\n",
    "    profit_threshold = 1.013  # 1.3% profit\n",
    "    if current_price >= entry_price * profit_threshold:\n",
    "        print(\"Profit target reached: 1.3% profit!\")\n",
    "        return True\n",
    "    \n",
    "    # Check for stop loss (1% loss)\n",
    "    loss_threshold = 0.99  # 1% loss\n",
    "    if current_price <= entry_price * loss_threshold:\n",
    "        print(\"Stop loss triggered: 1% loss!\")\n",
    "        return True\n",
    "    \n",
    "    return False"
   ]
  },
  {
   "cell_type": "markdown",
   "id": "e527958e-3034-46cc-92cc-134f0b54f751",
   "metadata": {},
   "source": [
    "### Step 3.3: Calculate suitable quantity for trade"
   ]
  },
  {
   "cell_type": "code",
   "execution_count": 20,
   "id": "63da9b47-f7dc-43ca-82f6-4bd709cf398d",
   "metadata": {},
   "outputs": [],
   "source": [
    "import math"
   ]
  },
  {
   "cell_type": "code",
   "execution_count": 21,
   "id": "1e3fe1bf-7a2d-4aaf-a00c-34474aeab30a",
   "metadata": {},
   "outputs": [],
   "source": [
    "# Get current price of a symbol\n",
    "def get_price(symbol):\n",
    "    \"\"\"\n",
    "    Fetches the current price for the given symbol from Binance.\n",
    "    \"\"\"\n",
    "    ticker = client.get_symbol_ticker(symbol=symbol)\n",
    "    return float(ticker['price'])"
   ]
  },
  {
   "cell_type": "code",
   "execution_count": 22,
   "id": "97916091-dc58-48bb-94f4-b9d7ad055b0b",
   "metadata": {},
   "outputs": [],
   "source": [
    "# Get symbol's trading info (including min quantity and step size)\n",
    "def get_symbol_info(symbol):\n",
    "    \"\"\"\n",
    "    Retrieves the symbol's trading info, including minimum quantity and step size.\n",
    "    \"\"\"\n",
    "    symbol_info = client.get_symbol_info(symbol)\n",
    "    return symbol_info\n"
   ]
  },
  {
   "cell_type": "code",
   "execution_count": 23,
   "id": "4e9d3cbe-700e-4a19-a76a-c2fdda2577f8",
   "metadata": {},
   "outputs": [],
   "source": [
    "# Calculate reasonable trade quantity based on price and amount range\n",
    "def get_trade_quantity(symbol, amount_range=(10, 20)):\n",
    "    \"\"\"\n",
    "    Calculates the trade quantity within the given amount range, ensuring it's above the minimum.\n",
    "    \"\"\"\n",
    "    price = get_price(symbol)\n",
    "    symbol_info = get_symbol_info(symbol)\n",
    "\n",
    "    # Extract filters to get minQty, stepSize\n",
    "    min_quantity = None\n",
    "    step_size = None\n",
    "    for filter in symbol_info['filters']:\n",
    "        if filter['filterType'] == 'LOT_SIZE':\n",
    "            required_quantity = float(filter['minQty'])\n",
    "            step_size = float(filter['stepSize'])\n",
    "            break\n",
    "    \n",
    "    if not required_quantity or not step_size:\n",
    "        raise ValueError(\"Minimum quantity or step size not found for this symbol.\")\n",
    "\n",
    "    \n",
    "    # Calculate the maximum allowable quantity within the amount range\n",
    "    max_quantity = amount_range[1] / price\n",
    "\n",
    "    # Round the required quantity to the nearest step size\n",
    "    rounded_quantity = math.floor(max_quantity / step_size) * step_size\n",
    "\n",
    "    # Ensure the quantity doesn't exceed the maximum allowable quantity within the amount range\n",
    "    if rounded_quantity < required_quantity:\n",
    "        rounded_quantity = required_quantity\n",
    "\n",
    "    \n",
    "    # Return the final rounded quantity\n",
    "    return rounded_quantity"
   ]
  },
  {
   "cell_type": "markdown",
   "id": "42fcc6cd-20df-4183-bf66-f49238c5801b",
   "metadata": {},
   "source": [
    "## Step 4: Execute order"
   ]
  },
  {
   "cell_type": "code",
   "execution_count": 25,
   "id": "ceed331d-c557-4c40-b5c9-72cc2164ff08",
   "metadata": {},
   "outputs": [],
   "source": [
    "import time\n",
    "from datetime import datetime\n",
    "from performance import insert_trade_performance "
   ]
  },
  {
   "cell_type": "code",
   "execution_count": 26,
   "id": "d97b8309-f70c-46b6-a5e3-0ed346354fd9",
   "metadata": {},
   "outputs": [],
   "source": [
    "def execute_strategy(engine=engine, pair='BTCUSDT', interval_seconds=20):\n",
    "    position = False  # Set initial position state\n",
    "    \n",
    "    last_timestamp = None  # Initialize the last timestamp to track changes\n",
    "\n",
    "    while True:\n",
    "        df = fetch_closest_rows(engine, pair)\n",
    "        \n",
    "        # Extract the latest timestamp from the DataFrame\n",
    "        new_timestamp = df['timestamp'].iloc[-1]\n",
    "\n",
    "        # If the timestamp has changed (new data added), fetch the data and execute the strategy\n",
    "        if new_timestamp != last_timestamp:\n",
    "            last_timestamp = new_timestamp  # Update last_timestamp to the latest one\n",
    "            print(f\"New data detected at {new_timestamp}, executing strategy...\")\n",
    "            \n",
    "            # Calculate moving averages\n",
    "            df = calculate_MA(df)\n",
    "            \n",
    "            # Check for buy signal\n",
    "            if not position and check_for_buy_signal(df):\n",
    "                print(\"Buy signal detected! Placing order...\")\n",
    "                # Example buy order:\n",
    "                quantity = get_trade_quantity(pair)  # calculate resonable quantity\n",
    "                try:\n",
    "                    order = client.order_market_buy(\n",
    "                            symbol=pair,\n",
    "                            quantity=quantity\n",
    "                        )\n",
    "                    entry_stamp = datetime.now().replace(second=0, microsecond=0)\n",
    "                    position = True  # Update position state\n",
    "                    entry_price = df['close'].iloc[-1]  # Store the entry price\n",
    "                    print(\"Order placed successfully:\", order)\n",
    "                \n",
    "                except Exception as e:\n",
    "                    print(\"Error placing order:\", e)\n",
    "\n",
    "            elif position:\n",
    "                current_price = df['close'].iloc[-1]  # Get the latest price\n",
    "                \n",
    "                if check_for_sell_signal(df, entry_price, current_price):\n",
    "                    print(\"Sell signal triggered based on crossover, profit/loss conditions. Placing sell order...\")\n",
    "                    try:\n",
    "                        order = client.order_market_sell(\n",
    "                                symbol=pair,\n",
    "                                quantity=quantity\n",
    "                            )\n",
    "                        \n",
    "                        position = False  # Update position state to False (sold)\n",
    "                        print(\"Sell order placed successfully:\", order)\n",
    "\n",
    "                        #insert that trade into the performance table\n",
    "                        insert_trade_performance(engine, pair, entry_stamp, entry_price, current_price, quantity)\n",
    "                    \n",
    "                    except Exception as e:\n",
    "                        print(\"Error placing sell order:\", e)\n",
    "        \n",
    "        # Wait briefly before checking again (polling every 1 second)\n",
    "        time.sleep(interval_seconds)"
   ]
  },
  {
   "cell_type": "code",
   "execution_count": 27,
   "id": "0651b995-46f0-4ea4-be7f-99532ced9300",
   "metadata": {},
   "outputs": [],
   "source": [
    "def strategy_execute(pair):\n",
    "    execute_strategy(pair=pair)"
   ]
  },
  {
   "cell_type": "code",
   "execution_count": 28,
   "id": "0687738f-34a9-489a-afdb-8bbae888ff7e",
   "metadata": {
    "scrolled": true
   },
   "outputs": [
    {
     "name": "stdout",
     "output_type": "stream",
     "text": [
      "New data detected at 2024-12-09 10:25:00, executing strategy...\n"
     ]
    },
    {
     "ename": "KeyboardInterrupt",
     "evalue": "",
     "output_type": "error",
     "traceback": [
      "\u001b[1;31m---------------------------------------------------------------------------\u001b[0m",
      "\u001b[1;31mKeyboardInterrupt\u001b[0m                         Traceback (most recent call last)",
      "Cell \u001b[1;32mIn[28], line 3\u001b[0m\n\u001b[0;32m      1\u001b[0m \u001b[38;5;28;01mif\u001b[39;00m \u001b[38;5;18m__name__\u001b[39m \u001b[38;5;241m==\u001b[39m \u001b[38;5;124m\"\u001b[39m\u001b[38;5;124m__main__\u001b[39m\u001b[38;5;124m\"\u001b[39m:\n\u001b[0;32m      2\u001b[0m     trading_pair \u001b[38;5;241m=\u001b[39m \u001b[38;5;124m'\u001b[39m\u001b[38;5;124mBTCUSDT\u001b[39m\u001b[38;5;124m'\u001b[39m\n\u001b[1;32m----> 3\u001b[0m     strategy_execute(trading_pair)\n",
      "Cell \u001b[1;32mIn[27], line 2\u001b[0m, in \u001b[0;36mstrategy_execute\u001b[1;34m(pair)\u001b[0m\n\u001b[0;32m      1\u001b[0m \u001b[38;5;28;01mdef\u001b[39;00m \u001b[38;5;21mstrategy_execute\u001b[39m(pair):\n\u001b[1;32m----> 2\u001b[0m     execute_strategy(pair\u001b[38;5;241m=\u001b[39mpair)\n",
      "Cell \u001b[1;32mIn[26], line 59\u001b[0m, in \u001b[0;36mexecute_strategy\u001b[1;34m(engine, pair, interval_seconds)\u001b[0m\n\u001b[0;32m     56\u001b[0m                 \u001b[38;5;28mprint\u001b[39m(\u001b[38;5;124m\"\u001b[39m\u001b[38;5;124mError placing sell order:\u001b[39m\u001b[38;5;124m\"\u001b[39m, e)\n\u001b[0;32m     58\u001b[0m \u001b[38;5;66;03m# Wait briefly before checking again (polling every 1 second)\u001b[39;00m\n\u001b[1;32m---> 59\u001b[0m time\u001b[38;5;241m.\u001b[39msleep(interval_seconds)\n",
      "\u001b[1;31mKeyboardInterrupt\u001b[0m: "
     ]
    }
   ],
   "source": [
    "if __name__ == \"__main__\":\n",
    "    trading_pair = 'BTCUSDT'\n",
    "    strategy_execute(trading_pair)"
   ]
  },
  {
   "cell_type": "code",
   "execution_count": null,
   "id": "91bf75b2-6589-405b-b37d-35ea2d063574",
   "metadata": {},
   "outputs": [],
   "source": []
  }
 ],
 "metadata": {
  "kernelspec": {
   "display_name": "Python 3 (ipykernel)",
   "language": "python",
   "name": "python3"
  },
  "language_info": {
   "codemirror_mode": {
    "name": "ipython",
    "version": 3
   },
   "file_extension": ".py",
   "mimetype": "text/x-python",
   "name": "python",
   "nbconvert_exporter": "python",
   "pygments_lexer": "ipython3",
   "version": "3.12.4"
  }
 },
 "nbformat": 4,
 "nbformat_minor": 5
}
