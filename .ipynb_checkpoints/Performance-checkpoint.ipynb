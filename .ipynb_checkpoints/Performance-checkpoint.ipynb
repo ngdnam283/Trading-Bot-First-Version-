{
 "cells": [
  {
   "cell_type": "code",
   "execution_count": 1,
   "id": "5a0a535d-c29e-4829-b0c8-cc0851bb2caf",
   "metadata": {},
   "outputs": [],
   "source": [
    "import pandas as pd\n",
    "import sqlalchemy\n",
    "from sqlalchemy import text"
   ]
  },
  {
   "cell_type": "markdown",
   "id": "1d7f8557-2365-4881-b9e9-a0cba2cdb63f",
   "metadata": {},
   "source": [
    "## Step 1: Create table"
   ]
  },
  {
   "cell_type": "code",
   "execution_count": 3,
   "id": "9da9e8bf-a9b8-4a7e-b846-cff0b024d714",
   "metadata": {},
   "outputs": [],
   "source": [
    "def create_performance_table(engine):\n",
    "    with engine.connect() as conn:\n",
    "        query = text(\"\"\"\n",
    "        CREATE TABLE IF NOT EXISTS bot_performance (\n",
    "            id INTEGER PRIMARY KEY AUTOINCREMENT,    -- Unique identifier for each record\n",
    "            timestamp DATETIME,                      -- When the performance record was created\n",
    "            pair TEXT,                               -- The trading pair (e.g., BTCUSDT)\n",
    "            entry_price REAL,                        -- Entry price of the trade\n",
    "            exit_price REAL,                         -- Exit price of the trade\n",
    "            profit_loss REAL,                        -- Profit or loss from the trade\n",
    "            total_profit_loss REAL,                  -- Cumulative profit/loss up to that point\n",
    "            trade_count INTEGER,                     -- Number of trades up to that point\n",
    "            win_count INTEGER,                       -- Number of winning trades\n",
    "            loss_count INTEGER,                      -- Number of losing trades\n",
    "            pct_change REAL,                         -- Percentage of interest for the trade\n",
    "            cumulative_pct_change REAL DEFAULT 0,    -- Cumulative percentage change up to this trade\n",
    "            trade_duration REAL                      -- Average trade duration (optional)\n",
    "        );\n",
    "        \"\"\")\n",
    "        conn.execute(query)\n",
    "        print(\"Performance table is ready.\")"
   ]
  },
  {
   "cell_type": "markdown",
   "id": "92c26d9f-4f0d-403d-a525-2f6f1bd4383f",
   "metadata": {},
   "source": [
    "## Step 2: Functions"
   ]
  },
  {
   "cell_type": "code",
   "execution_count": null,
   "id": "9dc41634-9205-45f5-af6f-7d10fe38f6ef",
   "metadata": {},
   "outputs": [],
   "source": [
    "def get_latest_row(engine, pair):\n",
    "    \"\"\"\n",
    "    Fetches the row with the latest timestamp (or largest id) and returns it as a Pandas Series.\n",
    "    \"\"\"\n",
    "    with engine.connect() as conn:\n",
    "        # Select the latest row based on the largest id (which corresponds to the most recent timestamp)\n",
    "        query = text(f\"\"\"\n",
    "        SELECT * FROM bot_performance\n",
    "        ORDER BY id DESC\n",
    "        LIMIT 1;\n",
    "        \"\"\")\n",
    "        result = conn.execute(query).fetchone()\n",
    "\n",
    "        if result:\n",
    "            # Fetch column names using the table schema from SQLAlchemy's inspector\n",
    "            inspector = sqlalchemy.inspect(engine)\n",
    "            columns = [col['name'] for col in inspector.get_columns('bot_performance')]\n",
    "            return pd.Series(result, index=columns)\n",
    "        else:\n",
    "            return None\n"
   ]
  },
  {
   "cell_type": "markdown",
   "id": "09f4241f-db3f-482e-9798-96dba2800368",
   "metadata": {},
   "source": [
    "### 2.1: Insert data"
   ]
  },
  {
   "cell_type": "code",
   "execution_count": 7,
   "id": "9826b97b-e82c-4cbb-90b6-9f43c6580685",
   "metadata": {},
   "outputs": [],
   "source": [
    "def insert_performance_record(engine, pair, entry_price, exit_price, profit_loss, total_profit_loss, trade_count, win_count, loss_count, pct_change, cumulative_pct_change, trade_duration):\n",
    "    with engine.connect() as conn:\n",
    "        query = text(\"\"\"\n",
    "        INSERT INTO bot_performance (timestamp, pair, entry_price, exit_price, profit_loss, total_profit_loss, trade_count, win_count, loss_count, pct_change, cumulative_pct_change, trade_duration)\n",
    "        VALUES (CURRENT_TIMESTAMP, :pair, :entry_price, :exit_price, :profit_loss, :total_profit_loss, :trade_count, :win_count, :loss_count, :pct_change, :cumulative_pct_change, :trade_duration);\n",
    "        \"\"\")\n",
    "        conn.execute(query, {\n",
    "            \"pair\": pair,\n",
    "            \"entry_price\": entry_price,\n",
    "            \"exit_price\": exit_price,\n",
    "            \"profit_loss\": profit_loss,\n",
    "            \"total_profit_loss\": total_profit_loss,\n",
    "            \"trade_count\": trade_count,\n",
    "            \"win_count\": win_count,\n",
    "            \"loss_count\": loss_count,\n",
    "            \"pct_change\": pct_change,\n",
    "            \"cumulative_pct_change\": cumulative_pct_change,\n",
    "            \"trade_duration\": trade_duration\n",
    "        })\n",
    "        conn.commit()\n",
    "        print(f\"Performance data for {pair} inserted successfully.\")"
   ]
  },
  {
   "cell_type": "code",
   "execution_count": 1,
   "id": "a2c756ec-a14d-4075-a13a-373635f70c49",
   "metadata": {},
   "outputs": [],
   "source": [
    "def insert_trade_performance(engine, pair, entry_time, entry_price, current_price, quantity):\n",
    "    \n",
    "    exit_price = current_price\n",
    "    profit_loss = (current_price - entry_price) * quantity\n",
    "\n",
    "    # Fetch the latest row from the performance table\n",
    "    last_row = get_latest_row(engine, 'bot_performance')\n",
    "\n",
    "    # If no previous record exists, initialize cumulative values\n",
    "    if last_row is None:\n",
    "        total_profit_loss = profit_loss\n",
    "        trade_count = 1\n",
    "        win_count = 1 if profit_loss > 0 else 0\n",
    "        loss_count = 1 - win_count\n",
    "        \n",
    "    else:\n",
    "        total_profit_loss = last_row['total_profit_loss'] + profit_loss\n",
    "        trade_count = last_row['trade_count'] + 1\n",
    "        win_count = last_row['win_count'] + (1 if profit_loss > 0 else 0)\n",
    "        loss_count = trade_count - win_count\n",
    "        \n",
    "\n",
    "    pct_change = profit_loss / entry_price\n",
    "    cumulative_pct_change = ((last_row['cumulative_pct_change']/100 + 1)*(pct_change / 100 + 1) - 1) * 100\n",
    "    current_time = datetime.now().replace(second=0, microsecond=0)\n",
    "    trade_duration = (current_time - entry_time).total_seconds() / 60\n",
    "\n",
    "    insert_performance_record(engine, pair, entry_price, exit_price, profit_loss, total_profit_loss, trade_count, win_count, loss_count, pct_change, cumulative_pct_change, trade_duration)\n",
    "    \n",
    "    "
   ]
  },
  {
   "cell_type": "markdown",
   "id": "25391e4f-c8c8-48cd-a166-04ec177c5156",
   "metadata": {},
   "source": [
    "### 2.2: Total profit/loss"
   ]
  },
  {
   "cell_type": "code",
   "execution_count": 12,
   "id": "64ddea1b-3529-4c13-a84f-fec45327c6ef",
   "metadata": {},
   "outputs": [],
   "source": [
    "def get_total_profit_loss(engine):\n",
    "    query = text(\"\"\"\n",
    "    SELECT total_profit_loss\n",
    "    FROM bot_performance\n",
    "    ORDER BY id DESC\n",
    "    LIMIT 1;\n",
    "    \"\"\")\n",
    "    \n",
    "    # Execute the query and fetch the result\n",
    "    with engine.connect() as conn:\n",
    "        result = conn.execute(query).fetchone()\n",
    "    \n",
    "    if result:\n",
    "        return result[0]  # result[0] contains the value of total_profit_loss from the last row\n",
    "    else:\n",
    "        return None  # If no rows are found"
   ]
  },
  {
   "cell_type": "markdown",
   "id": "ae3cfb8e-93e2-4d22-b8b0-2deefaa37b6f",
   "metadata": {},
   "source": [
    "### 2.3: Win Rate"
   ]
  },
  {
   "cell_type": "code",
   "execution_count": 14,
   "id": "6bc657c4-9a44-44ed-b954-11ba1bb0a1dc",
   "metadata": {},
   "outputs": [],
   "source": [
    "def get_win_rate(engine):\n",
    "    with engine.connect() as conn:\n",
    "        query = text(\"\"\"\n",
    "        SELECT (win_count * 1.0) / (trade_count * 1.0) AS win_rate\n",
    "        FROM bot_performance\n",
    "        ORDER BY timestamp DESC\n",
    "        LIMIT 1;\n",
    "        \"\"\")\n",
    "        result = conn.execute(query)\n",
    "        win_rate = result.scalar()\n",
    "        return win_rate"
   ]
  },
  {
   "cell_type": "markdown",
   "id": "3666fb53-c35d-4dd8-9062-c6a08d515820",
   "metadata": {},
   "source": [
    "## Step 3:"
   ]
  },
  {
   "cell_type": "code",
   "execution_count": 18,
   "id": "5b0a1afc-6972-4d02-a7ca-fb815e7038e8",
   "metadata": {},
   "outputs": [
    {
     "name": "stdout",
     "output_type": "stream",
     "text": [
      "Performance table is ready.\n"
     ]
    }
   ],
   "source": [
    "if __name__ == \"__main__\":\n",
    "    engine = sqlalchemy.create_engine('sqlite:///TradingData.db')\n",
    "    create_performance_table(engine)"
   ]
  },
  {
   "cell_type": "code",
   "execution_count": null,
   "id": "3b59369b-f76d-413c-a0b5-ac34604af4d4",
   "metadata": {},
   "outputs": [],
   "source": []
  }
 ],
 "metadata": {
  "kernelspec": {
   "display_name": "Python 3 (ipykernel)",
   "language": "python",
   "name": "python3"
  },
  "language_info": {
   "codemirror_mode": {
    "name": "ipython",
    "version": 3
   },
   "file_extension": ".py",
   "mimetype": "text/x-python",
   "name": "python",
   "nbconvert_exporter": "python",
   "pygments_lexer": "ipython3",
   "version": "3.12.4"
  }
 },
 "nbformat": 4,
 "nbformat_minor": 5
}
