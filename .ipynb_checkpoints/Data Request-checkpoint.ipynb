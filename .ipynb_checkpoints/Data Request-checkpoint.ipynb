{
 "cells": [
  {
   "cell_type": "markdown",
   "id": "10f628c6-1d6f-428f-b6d6-9e5645889463",
   "metadata": {},
   "source": [
    "## Step 1: Create table"
   ]
  },
  {
   "cell_type": "code",
   "execution_count": 2,
   "id": "db71c8bf-b51a-49d6-8ca1-5bb42bf730ec",
   "metadata": {},
   "outputs": [],
   "source": [
    "import sqlalchemy\n",
    "from sqlalchemy import text"
   ]
  },
  {
   "cell_type": "code",
   "execution_count": 3,
   "id": "f72865a5-57cd-4dcc-b711-e094588b778b",
   "metadata": {},
   "outputs": [],
   "source": [
    "engine = sqlalchemy.create_engine('sqlite:///TradingData.db')"
   ]
  },
  {
   "cell_type": "code",
   "execution_count": 4,
   "id": "982a18ce-d882-487e-bd6c-f73300b9e68c",
   "metadata": {},
   "outputs": [],
   "source": [
    "# Function to create a table dynamically based on the pair\n",
    "def create_table_for_pair(engine, pair, buffer_size):\n",
    "    \"\"\"\n",
    "    Creates a table for the circular buffer with a fixed number of slots.\n",
    "    \"\"\"\n",
    "    with engine.connect() as conn:\n",
    "        # Create the table\n",
    "        query = text(f\"\"\"\n",
    "        CREATE TABLE IF NOT EXISTS {pair} (\n",
    "            slot INTEGER PRIMARY KEY, -- Slot position (1 to buffer_size)\n",
    "            timestamp DATETIME,\n",
    "            close REAL\n",
    "        );\n",
    "        \"\"\")\n",
    "        conn.execute(query)\n",
    "\n",
    "        index_query = text(f\"CREATE INDEX IF NOT EXISTS idx_timestamp_{pair} ON {pair} (timestamp);\")\n",
    "        conn.execute(index_query)\n",
    "        \n",
    "        # Pre-fill the table with empty slots if not already filled\n",
    "        count_query = text(f\"SELECT COUNT(*) FROM {pair};\")\n",
    "        current_slots = conn.execute(count_query).scalar()\n",
    "        if current_slots < buffer_size:\n",
    "            for slot in range(current_slots + 1, buffer_size + 1):\n",
    "                query_fill = text(f\"INSERT INTO {pair} (slot) VALUES ({slot});\")\n",
    "                conn.execute(query_fill)\n",
    "\n",
    "        conn.commit()\n",
    "        print(f\"Table for {pair} with {buffer_size} slots is ready.\")\n",
    "\n"
   ]
  },
  {
   "cell_type": "markdown",
   "id": "1bd7f835-df76-45bf-aa55-806cd51c19a9",
   "metadata": {},
   "source": [
    "## Step 2: Insert data into table"
   ]
  },
  {
   "cell_type": "code",
   "execution_count": 6,
   "id": "c7b980dc-559e-43e6-9e47-d731f2a2c09a",
   "metadata": {},
   "outputs": [],
   "source": [
    "def get_next_slot(conn, pair):\n",
    "    # First, try to find a slot where the timestamp is NULL\n",
    "    query = text(f\"\"\"\n",
    "    SELECT slot\n",
    "    FROM {pair}\n",
    "    WHERE timestamp IS NULL\n",
    "    ORDER BY slot ASC\n",
    "    LIMIT 1;\n",
    "    \"\"\")\n",
    "    result = conn.execute(query)\n",
    "    slot = result.scalar()\n",
    "\n",
    "    if slot is not None:\n",
    "        # If there's a slot with NULL timestamp, return it\n",
    "        return slot\n",
    "    else:\n",
    "        # Otherwise, find the slot with the earliest timestamp\n",
    "        query = text(f\"\"\"\n",
    "        SELECT slot\n",
    "        FROM {pair}\n",
    "        ORDER BY timestamp ASC\n",
    "        LIMIT 1;\n",
    "        \"\"\")\n",
    "        result = conn.execute(query)\n",
    "        slot = result.scalar()\n",
    "        return slot"
   ]
  },
  {
   "cell_type": "code",
   "execution_count": 7,
   "id": "3136b7a1-8be5-44f8-9437-e8201152299c",
   "metadata": {},
   "outputs": [],
   "source": [
    "def insert_into_circular_buffer(engine, pair, timestamp, close, buffer_size):\n",
    "    \"\"\"\n",
    "    Inserts data into the circular buffer, overwriting the oldest slot when full.\n",
    "    \"\"\"\n",
    "    with engine.connect() as conn:\n",
    "        # Get the next slot to overwrite\n",
    "        next_slot = get_next_slot(conn, pair)\n",
    "\n",
    "        # Insert/Update the data in the slot\n",
    "        insert_query = text(f\"\"\"\n",
    "        UPDATE {pair}\n",
    "        SET timestamp = :timestamp, close = :close\n",
    "        WHERE slot = :slot;\n",
    "        \"\"\")\n",
    "        conn.execute(insert_query, {\"timestamp\": timestamp, \"close\": close, \"slot\": next_slot})\n",
    "        conn.commit()\n",
    "        print(f\"Inserted into slot {next_slot}: close={close}, timestamp={timestamp}\")"
   ]
  },
  {
   "cell_type": "markdown",
   "id": "22be639f-0019-4045-93b3-45810a38492d",
   "metadata": {},
   "source": [
    "## Step 3: Request data from Websocket"
   ]
  },
  {
   "cell_type": "code",
   "execution_count": 9,
   "id": "4d6ae18d-19af-4a64-b9d4-d823eb3b7bfd",
   "metadata": {},
   "outputs": [],
   "source": [
    "import websocket\n",
    "import json\n",
    "from datetime import datetime, timedelta"
   ]
  },
  {
   "cell_type": "code",
   "execution_count": 10,
   "id": "5d0064ff-d281-45f2-92b0-a33025ed14be",
   "metadata": {},
   "outputs": [],
   "source": [
    "def binance_websocket(pair, buffer_size, time_interval):    \n",
    "    # ws = websocket.create_connection(f\"wss://stream.binance.com:9443/ws/{pair.lower()}@ticker\")\n",
    "    # last_minute = None\n",
    "    # last_close_price = None\n",
    "    try:\n",
    "        ws = websocket.create_connection(f\"wss://stream.binance.com:9443/ws/{pair.lower()}@ticker\")\n",
    "        print(\"WebSocket connected successfully!\")\n",
    "    except websocket.WebSocketException as e:\n",
    "        print(f\"WebSocketException: {e}\")\n",
    "    except Exception as e:\n",
    "        print(f\"Other error: {e}\")\n",
    "    \n",
    "    try:\n",
    "        ws = websocket.create_connection(f\"wss://stream.binance.com:9443/ws/{pair.lower()}@ticker\")\n",
    "        last_minute = None\n",
    "        last_close_price = None\n",
    "        while True:\n",
    "            response = json.loads(ws.recv())\n",
    "    \n",
    "            current_price = float(response[\"c\"])\n",
    "            current_time = datetime.now()\n",
    "            current_minute = current_time.replace(second=0, microsecond=0)\n",
    "\n",
    "            if last_minute is None:\n",
    "                last_minute = current_minute\n",
    "                last_close_price = current_price\n",
    "                continue  # Skip to the next iteration\n",
    "    \n",
    "            if current_minute - last_minute >= timedelta(minutes=time_interval):\n",
    "                insert_into_circular_buffer(engine, pair.upper(), last_minute, last_close_price, buffer_size)\n",
    "                last_minute = current_minute\n",
    "\n",
    "            last_close_price = current_price\n",
    "\n",
    "            \n",
    "    except Exception as e:\n",
    "        print(f\"WebSocket error: {e}\")\n",
    "    finally:\n",
    "        ws.close()\n",
    "    "
   ]
  },
  {
   "cell_type": "markdown",
   "id": "e7250c06-f130-46ea-8403-ee8242fdf083",
   "metadata": {},
   "source": [
    "## Step 4: Run stage"
   ]
  },
  {
   "cell_type": "code",
   "execution_count": 12,
   "id": "d23052ed-ee3a-4805-b743-3c7ded1a36fb",
   "metadata": {},
   "outputs": [],
   "source": [
    "def run_websocket_for_pairs(pair):\n",
    "\n",
    "    buffer_size = 200\n",
    "    time_interval = 1\n",
    "    # Create tables pair and start a websocket\n",
    "    create_table_for_pair(engine, pair, buffer_size)  # Assuming create_table_for_pair is defined elsewhere\n",
    "    binance_websocket(pair, buffer_size, time_interval)\n",
    "\n",
    "    print(\"Websockets started for all pairs.\")\n"
   ]
  },
  {
   "cell_type": "code",
   "execution_count": 13,
   "id": "102ad520-4da3-43bd-8715-a835776943dc",
   "metadata": {
    "scrolled": true
   },
   "outputs": [
    {
     "name": "stdout",
     "output_type": "stream",
     "text": [
      "Table for BTCUSDT with 200 slots is ready.\n",
      "WebSocket connected successfully!\n",
      "Inserted into slot 53: close=99533.55, timestamp=2024-12-09 08:55:00\n",
      "Inserted into slot 54: close=99509.92, timestamp=2024-12-09 08:56:00\n",
      "Inserted into slot 55: close=99518.89, timestamp=2024-12-09 08:57:00\n",
      "Inserted into slot 56: close=99532.01, timestamp=2024-12-09 08:58:00\n",
      "Inserted into slot 57: close=99540.0, timestamp=2024-12-09 08:59:00\n",
      "Inserted into slot 58: close=99444.02, timestamp=2024-12-09 09:00:00\n",
      "Inserted into slot 59: close=99497.99, timestamp=2024-12-09 09:01:00\n",
      "Inserted into slot 60: close=99441.5, timestamp=2024-12-09 09:02:00\n",
      "Inserted into slot 61: close=99478.98, timestamp=2024-12-09 09:03:00\n",
      "Inserted into slot 62: close=99423.89, timestamp=2024-12-09 09:04:00\n",
      "Inserted into slot 63: close=99399.16, timestamp=2024-12-09 09:05:00\n",
      "Inserted into slot 64: close=99550.25, timestamp=2024-12-09 09:06:00\n",
      "Inserted into slot 65: close=99595.92, timestamp=2024-12-09 09:07:00\n",
      "Inserted into slot 66: close=99649.06, timestamp=2024-12-09 09:08:00\n",
      "Inserted into slot 67: close=99590.62, timestamp=2024-12-09 09:09:00\n",
      "Inserted into slot 68: close=99648.41, timestamp=2024-12-09 09:10:00\n",
      "Inserted into slot 69: close=99700.0, timestamp=2024-12-09 09:11:00\n",
      "Inserted into slot 70: close=99664.93, timestamp=2024-12-09 09:12:00\n",
      "Inserted into slot 71: close=99648.0, timestamp=2024-12-09 09:13:00\n",
      "Inserted into slot 72: close=99674.87, timestamp=2024-12-09 09:14:00\n",
      "Inserted into slot 73: close=99648.73, timestamp=2024-12-09 09:15:00\n",
      "Inserted into slot 74: close=99550.3, timestamp=2024-12-09 09:16:00\n",
      "Inserted into slot 75: close=99570.48, timestamp=2024-12-09 09:17:00\n",
      "Inserted into slot 76: close=99520.01, timestamp=2024-12-09 09:18:00\n",
      "Inserted into slot 77: close=99414.25, timestamp=2024-12-09 09:19:00\n",
      "Inserted into slot 78: close=99430.49, timestamp=2024-12-09 09:20:00\n",
      "Inserted into slot 79: close=99463.74, timestamp=2024-12-09 09:21:00\n",
      "Inserted into slot 80: close=99459.16, timestamp=2024-12-09 09:22:00\n",
      "Inserted into slot 81: close=99456.84, timestamp=2024-12-09 09:23:00\n",
      "Inserted into slot 82: close=99419.35, timestamp=2024-12-09 09:24:00\n",
      "Inserted into slot 83: close=99387.02, timestamp=2024-12-09 09:25:00\n",
      "Inserted into slot 84: close=99273.25, timestamp=2024-12-09 09:26:00\n",
      "Inserted into slot 85: close=99243.11, timestamp=2024-12-09 09:27:00\n",
      "Inserted into slot 86: close=99288.21, timestamp=2024-12-09 09:28:00\n",
      "Inserted into slot 87: close=99310.97, timestamp=2024-12-09 09:29:00\n",
      "Inserted into slot 88: close=99289.66, timestamp=2024-12-09 09:30:00\n",
      "Inserted into slot 89: close=99339.99, timestamp=2024-12-09 09:31:00\n",
      "Inserted into slot 90: close=99260.01, timestamp=2024-12-09 09:32:00\n",
      "Inserted into slot 91: close=99379.81, timestamp=2024-12-09 09:33:00\n",
      "Inserted into slot 92: close=99340.35, timestamp=2024-12-09 09:34:00\n",
      "Inserted into slot 93: close=99400.4, timestamp=2024-12-09 09:35:00\n"
     ]
    },
    {
     "ename": "KeyboardInterrupt",
     "evalue": "",
     "output_type": "error",
     "traceback": [
      "\u001b[1;31m---------------------------------------------------------------------------\u001b[0m",
      "\u001b[1;31mKeyboardInterrupt\u001b[0m                         Traceback (most recent call last)",
      "Cell \u001b[1;32mIn[13], line 2\u001b[0m\n\u001b[0;32m      1\u001b[0m \u001b[38;5;28;01mif\u001b[39;00m \u001b[38;5;18m__name__\u001b[39m \u001b[38;5;241m==\u001b[39m \u001b[38;5;124m\"\u001b[39m\u001b[38;5;124m__main__\u001b[39m\u001b[38;5;124m\"\u001b[39m:\n\u001b[1;32m----> 2\u001b[0m     run_websocket_for_pairs()\n",
      "Cell \u001b[1;32mIn[12], line 9\u001b[0m, in \u001b[0;36mrun_websocket_for_pairs\u001b[1;34m()\u001b[0m\n\u001b[0;32m      7\u001b[0m \u001b[38;5;28;01mfor\u001b[39;00m pair \u001b[38;5;129;01min\u001b[39;00m pairs:\n\u001b[0;32m      8\u001b[0m     create_table_for_pair(engine, pair, buffer_size)  \u001b[38;5;66;03m# Assuming create_table_for_pair is defined elsewhere\u001b[39;00m\n\u001b[1;32m----> 9\u001b[0m     binance_websocket(pair, buffer_size, time_interval)\n\u001b[0;32m     11\u001b[0m \u001b[38;5;28mprint\u001b[39m(\u001b[38;5;124m\"\u001b[39m\u001b[38;5;124mWebsockets started for all pairs.\u001b[39m\u001b[38;5;124m\"\u001b[39m)\n",
      "Cell \u001b[1;32mIn[10], line 18\u001b[0m, in \u001b[0;36mbinance_websocket\u001b[1;34m(pair, buffer_size, time_interval)\u001b[0m\n\u001b[0;32m     16\u001b[0m last_close_price \u001b[38;5;241m=\u001b[39m \u001b[38;5;28;01mNone\u001b[39;00m\n\u001b[0;32m     17\u001b[0m \u001b[38;5;28;01mwhile\u001b[39;00m \u001b[38;5;28;01mTrue\u001b[39;00m:\n\u001b[1;32m---> 18\u001b[0m     response \u001b[38;5;241m=\u001b[39m json\u001b[38;5;241m.\u001b[39mloads(ws\u001b[38;5;241m.\u001b[39mrecv())\n\u001b[0;32m     20\u001b[0m     current_price \u001b[38;5;241m=\u001b[39m \u001b[38;5;28mfloat\u001b[39m(response[\u001b[38;5;124m\"\u001b[39m\u001b[38;5;124mc\u001b[39m\u001b[38;5;124m\"\u001b[39m])\n\u001b[0;32m     21\u001b[0m     current_time \u001b[38;5;241m=\u001b[39m datetime\u001b[38;5;241m.\u001b[39mnow()\n",
      "File \u001b[1;32m~\\anaconda3\\Lib\\site-packages\\websocket\\_core.py:388\u001b[0m, in \u001b[0;36mWebSocket.recv\u001b[1;34m(self)\u001b[0m\n\u001b[0;32m    380\u001b[0m \u001b[38;5;250m\u001b[39m\u001b[38;5;124;03m\"\"\"\u001b[39;00m\n\u001b[0;32m    381\u001b[0m \u001b[38;5;124;03mReceive string data(byte array) from the server.\u001b[39;00m\n\u001b[0;32m    382\u001b[0m \n\u001b[1;32m   (...)\u001b[0m\n\u001b[0;32m    385\u001b[0m \u001b[38;5;124;03mdata: string (byte array) value.\u001b[39;00m\n\u001b[0;32m    386\u001b[0m \u001b[38;5;124;03m\"\"\"\u001b[39;00m\n\u001b[0;32m    387\u001b[0m \u001b[38;5;28;01mwith\u001b[39;00m \u001b[38;5;28mself\u001b[39m\u001b[38;5;241m.\u001b[39mreadlock:\n\u001b[1;32m--> 388\u001b[0m     opcode, data \u001b[38;5;241m=\u001b[39m \u001b[38;5;28mself\u001b[39m\u001b[38;5;241m.\u001b[39mrecv_data()\n\u001b[0;32m    389\u001b[0m \u001b[38;5;28;01mif\u001b[39;00m opcode \u001b[38;5;241m==\u001b[39m ABNF\u001b[38;5;241m.\u001b[39mOPCODE_TEXT:\n\u001b[0;32m    390\u001b[0m     data_received: Union[\u001b[38;5;28mbytes\u001b[39m, \u001b[38;5;28mstr\u001b[39m] \u001b[38;5;241m=\u001b[39m data\n",
      "File \u001b[1;32m~\\anaconda3\\Lib\\site-packages\\websocket\\_core.py:416\u001b[0m, in \u001b[0;36mWebSocket.recv_data\u001b[1;34m(self, control_frame)\u001b[0m\n\u001b[0;32m    401\u001b[0m \u001b[38;5;28;01mdef\u001b[39;00m \u001b[38;5;21mrecv_data\u001b[39m(\u001b[38;5;28mself\u001b[39m, control_frame: \u001b[38;5;28mbool\u001b[39m \u001b[38;5;241m=\u001b[39m \u001b[38;5;28;01mFalse\u001b[39;00m) \u001b[38;5;241m-\u001b[39m\u001b[38;5;241m>\u001b[39m \u001b[38;5;28mtuple\u001b[39m:\n\u001b[0;32m    402\u001b[0m \u001b[38;5;250m    \u001b[39m\u001b[38;5;124;03m\"\"\"\u001b[39;00m\n\u001b[0;32m    403\u001b[0m \u001b[38;5;124;03m    Receive data with operation code.\u001b[39;00m\n\u001b[0;32m    404\u001b[0m \n\u001b[1;32m   (...)\u001b[0m\n\u001b[0;32m    414\u001b[0m \u001b[38;5;124;03m        tuple of operation code and string(byte array) value.\u001b[39;00m\n\u001b[0;32m    415\u001b[0m \u001b[38;5;124;03m    \"\"\"\u001b[39;00m\n\u001b[1;32m--> 416\u001b[0m     opcode, frame \u001b[38;5;241m=\u001b[39m \u001b[38;5;28mself\u001b[39m\u001b[38;5;241m.\u001b[39mrecv_data_frame(control_frame)\n\u001b[0;32m    417\u001b[0m     \u001b[38;5;28;01mreturn\u001b[39;00m opcode, frame\u001b[38;5;241m.\u001b[39mdata\n",
      "File \u001b[1;32m~\\anaconda3\\Lib\\site-packages\\websocket\\_core.py:437\u001b[0m, in \u001b[0;36mWebSocket.recv_data_frame\u001b[1;34m(self, control_frame)\u001b[0m\n\u001b[0;32m    420\u001b[0m \u001b[38;5;250m\u001b[39m\u001b[38;5;124;03m\"\"\"\u001b[39;00m\n\u001b[0;32m    421\u001b[0m \u001b[38;5;124;03mReceive data with operation code.\u001b[39;00m\n\u001b[0;32m    422\u001b[0m \n\u001b[1;32m   (...)\u001b[0m\n\u001b[0;32m    434\u001b[0m \u001b[38;5;124;03m    tuple of operation code and string(byte array) value.\u001b[39;00m\n\u001b[0;32m    435\u001b[0m \u001b[38;5;124;03m\"\"\"\u001b[39;00m\n\u001b[0;32m    436\u001b[0m \u001b[38;5;28;01mwhile\u001b[39;00m \u001b[38;5;28;01mTrue\u001b[39;00m:\n\u001b[1;32m--> 437\u001b[0m     frame \u001b[38;5;241m=\u001b[39m \u001b[38;5;28mself\u001b[39m\u001b[38;5;241m.\u001b[39mrecv_frame()\n\u001b[0;32m    438\u001b[0m     \u001b[38;5;28;01mif\u001b[39;00m isEnabledForTrace():\n\u001b[0;32m    439\u001b[0m         trace(\u001b[38;5;124mf\u001b[39m\u001b[38;5;124m\"\u001b[39m\u001b[38;5;124m++Rcv raw: \u001b[39m\u001b[38;5;132;01m{\u001b[39;00m\u001b[38;5;28mrepr\u001b[39m(frame\u001b[38;5;241m.\u001b[39mformat())\u001b[38;5;132;01m}\u001b[39;00m\u001b[38;5;124m\"\u001b[39m)\n",
      "File \u001b[1;32m~\\anaconda3\\Lib\\site-packages\\websocket\\_core.py:478\u001b[0m, in \u001b[0;36mWebSocket.recv_frame\u001b[1;34m(self)\u001b[0m\n\u001b[0;32m    470\u001b[0m \u001b[38;5;28;01mdef\u001b[39;00m \u001b[38;5;21mrecv_frame\u001b[39m(\u001b[38;5;28mself\u001b[39m):\n\u001b[0;32m    471\u001b[0m \u001b[38;5;250m    \u001b[39m\u001b[38;5;124;03m\"\"\"\u001b[39;00m\n\u001b[0;32m    472\u001b[0m \u001b[38;5;124;03m    Receive data as frame from server.\u001b[39;00m\n\u001b[0;32m    473\u001b[0m \n\u001b[1;32m   (...)\u001b[0m\n\u001b[0;32m    476\u001b[0m \u001b[38;5;124;03m    self.frame_buffer.recv_frame(): ABNF frame object\u001b[39;00m\n\u001b[0;32m    477\u001b[0m \u001b[38;5;124;03m    \"\"\"\u001b[39;00m\n\u001b[1;32m--> 478\u001b[0m     \u001b[38;5;28;01mreturn\u001b[39;00m \u001b[38;5;28mself\u001b[39m\u001b[38;5;241m.\u001b[39mframe_buffer\u001b[38;5;241m.\u001b[39mrecv_frame()\n",
      "File \u001b[1;32m~\\anaconda3\\Lib\\site-packages\\websocket\\_abnf.py:363\u001b[0m, in \u001b[0;36mframe_buffer.recv_frame\u001b[1;34m(self)\u001b[0m\n\u001b[0;32m    360\u001b[0m \u001b[38;5;28;01mwith\u001b[39;00m \u001b[38;5;28mself\u001b[39m\u001b[38;5;241m.\u001b[39mlock:\n\u001b[0;32m    361\u001b[0m     \u001b[38;5;66;03m# Header\u001b[39;00m\n\u001b[0;32m    362\u001b[0m     \u001b[38;5;28;01mif\u001b[39;00m \u001b[38;5;28mself\u001b[39m\u001b[38;5;241m.\u001b[39mhas_received_header():\n\u001b[1;32m--> 363\u001b[0m         \u001b[38;5;28mself\u001b[39m\u001b[38;5;241m.\u001b[39mrecv_header()\n\u001b[0;32m    364\u001b[0m     (fin, rsv1, rsv2, rsv3, opcode, has_mask, _) \u001b[38;5;241m=\u001b[39m \u001b[38;5;28mself\u001b[39m\u001b[38;5;241m.\u001b[39mheader\n\u001b[0;32m    366\u001b[0m     \u001b[38;5;66;03m# Frame length\u001b[39;00m\n",
      "File \u001b[1;32m~\\anaconda3\\Lib\\site-packages\\websocket\\_abnf.py:319\u001b[0m, in \u001b[0;36mframe_buffer.recv_header\u001b[1;34m(self)\u001b[0m\n\u001b[0;32m    318\u001b[0m \u001b[38;5;28;01mdef\u001b[39;00m \u001b[38;5;21mrecv_header\u001b[39m(\u001b[38;5;28mself\u001b[39m) \u001b[38;5;241m-\u001b[39m\u001b[38;5;241m>\u001b[39m \u001b[38;5;28;01mNone\u001b[39;00m:\n\u001b[1;32m--> 319\u001b[0m     header \u001b[38;5;241m=\u001b[39m \u001b[38;5;28mself\u001b[39m\u001b[38;5;241m.\u001b[39mrecv_strict(\u001b[38;5;241m2\u001b[39m)\n\u001b[0;32m    320\u001b[0m     b1 \u001b[38;5;241m=\u001b[39m header[\u001b[38;5;241m0\u001b[39m]\n\u001b[0;32m    321\u001b[0m     fin \u001b[38;5;241m=\u001b[39m b1 \u001b[38;5;241m>>\u001b[39m \u001b[38;5;241m7\u001b[39m \u001b[38;5;241m&\u001b[39m \u001b[38;5;241m1\u001b[39m\n",
      "File \u001b[1;32m~\\anaconda3\\Lib\\site-packages\\websocket\\_abnf.py:398\u001b[0m, in \u001b[0;36mframe_buffer.recv_strict\u001b[1;34m(self, bufsize)\u001b[0m\n\u001b[0;32m    390\u001b[0m shortage \u001b[38;5;241m=\u001b[39m bufsize \u001b[38;5;241m-\u001b[39m \u001b[38;5;28msum\u001b[39m(\u001b[38;5;28mmap\u001b[39m(\u001b[38;5;28mlen\u001b[39m, \u001b[38;5;28mself\u001b[39m\u001b[38;5;241m.\u001b[39mrecv_buffer))\n\u001b[0;32m    391\u001b[0m \u001b[38;5;28;01mwhile\u001b[39;00m shortage \u001b[38;5;241m>\u001b[39m \u001b[38;5;241m0\u001b[39m:\n\u001b[0;32m    392\u001b[0m     \u001b[38;5;66;03m# Limit buffer size that we pass to socket.recv() to avoid\u001b[39;00m\n\u001b[0;32m    393\u001b[0m     \u001b[38;5;66;03m# fragmenting the heap -- the number of bytes recv() actually\u001b[39;00m\n\u001b[1;32m   (...)\u001b[0m\n\u001b[0;32m    396\u001b[0m     \u001b[38;5;66;03m# buffers allocated and then shrunk, which results in\u001b[39;00m\n\u001b[0;32m    397\u001b[0m     \u001b[38;5;66;03m# fragmentation.\u001b[39;00m\n\u001b[1;32m--> 398\u001b[0m     bytes_ \u001b[38;5;241m=\u001b[39m \u001b[38;5;28mself\u001b[39m\u001b[38;5;241m.\u001b[39mrecv(\u001b[38;5;28mmin\u001b[39m(\u001b[38;5;241m16384\u001b[39m, shortage))\n\u001b[0;32m    399\u001b[0m     \u001b[38;5;28mself\u001b[39m\u001b[38;5;241m.\u001b[39mrecv_buffer\u001b[38;5;241m.\u001b[39mappend(bytes_)\n\u001b[0;32m    400\u001b[0m     shortage \u001b[38;5;241m-\u001b[39m\u001b[38;5;241m=\u001b[39m \u001b[38;5;28mlen\u001b[39m(bytes_)\n",
      "File \u001b[1;32m~\\anaconda3\\Lib\\site-packages\\websocket\\_core.py:563\u001b[0m, in \u001b[0;36mWebSocket._recv\u001b[1;34m(self, bufsize)\u001b[0m\n\u001b[0;32m    561\u001b[0m \u001b[38;5;28;01mdef\u001b[39;00m \u001b[38;5;21m_recv\u001b[39m(\u001b[38;5;28mself\u001b[39m, bufsize):\n\u001b[0;32m    562\u001b[0m     \u001b[38;5;28;01mtry\u001b[39;00m:\n\u001b[1;32m--> 563\u001b[0m         \u001b[38;5;28;01mreturn\u001b[39;00m recv(\u001b[38;5;28mself\u001b[39m\u001b[38;5;241m.\u001b[39msock, bufsize)\n\u001b[0;32m    564\u001b[0m     \u001b[38;5;28;01mexcept\u001b[39;00m WebSocketConnectionClosedException:\n\u001b[0;32m    565\u001b[0m         \u001b[38;5;28;01mif\u001b[39;00m \u001b[38;5;28mself\u001b[39m\u001b[38;5;241m.\u001b[39msock:\n",
      "File \u001b[1;32m~\\anaconda3\\Lib\\site-packages\\websocket\\_socket.py:118\u001b[0m, in \u001b[0;36mrecv\u001b[1;34m(sock, bufsize)\u001b[0m\n\u001b[0;32m    116\u001b[0m         bytes_ \u001b[38;5;241m=\u001b[39m sock\u001b[38;5;241m.\u001b[39mrecv(bufsize)\n\u001b[0;32m    117\u001b[0m     \u001b[38;5;28;01melse\u001b[39;00m:\n\u001b[1;32m--> 118\u001b[0m         bytes_ \u001b[38;5;241m=\u001b[39m _recv()\n\u001b[0;32m    119\u001b[0m \u001b[38;5;28;01mexcept\u001b[39;00m \u001b[38;5;167;01mTimeoutError\u001b[39;00m:\n\u001b[0;32m    120\u001b[0m     \u001b[38;5;28;01mraise\u001b[39;00m WebSocketTimeoutException(\u001b[38;5;124m\"\u001b[39m\u001b[38;5;124mConnection timed out\u001b[39m\u001b[38;5;124m\"\u001b[39m)\n",
      "File \u001b[1;32m~\\anaconda3\\Lib\\site-packages\\websocket\\_socket.py:97\u001b[0m, in \u001b[0;36mrecv.<locals>._recv\u001b[1;34m()\u001b[0m\n\u001b[0;32m     95\u001b[0m \u001b[38;5;28;01mdef\u001b[39;00m \u001b[38;5;21m_recv\u001b[39m():\n\u001b[0;32m     96\u001b[0m     \u001b[38;5;28;01mtry\u001b[39;00m:\n\u001b[1;32m---> 97\u001b[0m         \u001b[38;5;28;01mreturn\u001b[39;00m sock\u001b[38;5;241m.\u001b[39mrecv(bufsize)\n\u001b[0;32m     98\u001b[0m     \u001b[38;5;28;01mexcept\u001b[39;00m SSLWantReadError:\n\u001b[0;32m     99\u001b[0m         \u001b[38;5;28;01mpass\u001b[39;00m\n",
      "File \u001b[1;32m~\\anaconda3\\Lib\\ssl.py:1233\u001b[0m, in \u001b[0;36mSSLSocket.recv\u001b[1;34m(self, buflen, flags)\u001b[0m\n\u001b[0;32m   1229\u001b[0m     \u001b[38;5;28;01mif\u001b[39;00m flags \u001b[38;5;241m!=\u001b[39m \u001b[38;5;241m0\u001b[39m:\n\u001b[0;32m   1230\u001b[0m         \u001b[38;5;28;01mraise\u001b[39;00m \u001b[38;5;167;01mValueError\u001b[39;00m(\n\u001b[0;32m   1231\u001b[0m             \u001b[38;5;124m\"\u001b[39m\u001b[38;5;124mnon-zero flags not allowed in calls to recv() on \u001b[39m\u001b[38;5;132;01m%s\u001b[39;00m\u001b[38;5;124m\"\u001b[39m \u001b[38;5;241m%\u001b[39m\n\u001b[0;32m   1232\u001b[0m             \u001b[38;5;28mself\u001b[39m\u001b[38;5;241m.\u001b[39m\u001b[38;5;18m__class__\u001b[39m)\n\u001b[1;32m-> 1233\u001b[0m     \u001b[38;5;28;01mreturn\u001b[39;00m \u001b[38;5;28mself\u001b[39m\u001b[38;5;241m.\u001b[39mread(buflen)\n\u001b[0;32m   1234\u001b[0m \u001b[38;5;28;01melse\u001b[39;00m:\n\u001b[0;32m   1235\u001b[0m     \u001b[38;5;28;01mreturn\u001b[39;00m \u001b[38;5;28msuper\u001b[39m()\u001b[38;5;241m.\u001b[39mrecv(buflen, flags)\n",
      "File \u001b[1;32m~\\anaconda3\\Lib\\ssl.py:1106\u001b[0m, in \u001b[0;36mSSLSocket.read\u001b[1;34m(self, len, buffer)\u001b[0m\n\u001b[0;32m   1104\u001b[0m         \u001b[38;5;28;01mreturn\u001b[39;00m \u001b[38;5;28mself\u001b[39m\u001b[38;5;241m.\u001b[39m_sslobj\u001b[38;5;241m.\u001b[39mread(\u001b[38;5;28mlen\u001b[39m, buffer)\n\u001b[0;32m   1105\u001b[0m     \u001b[38;5;28;01melse\u001b[39;00m:\n\u001b[1;32m-> 1106\u001b[0m         \u001b[38;5;28;01mreturn\u001b[39;00m \u001b[38;5;28mself\u001b[39m\u001b[38;5;241m.\u001b[39m_sslobj\u001b[38;5;241m.\u001b[39mread(\u001b[38;5;28mlen\u001b[39m)\n\u001b[0;32m   1107\u001b[0m \u001b[38;5;28;01mexcept\u001b[39;00m SSLError \u001b[38;5;28;01mas\u001b[39;00m x:\n\u001b[0;32m   1108\u001b[0m     \u001b[38;5;28;01mif\u001b[39;00m x\u001b[38;5;241m.\u001b[39margs[\u001b[38;5;241m0\u001b[39m] \u001b[38;5;241m==\u001b[39m SSL_ERROR_EOF \u001b[38;5;129;01mand\u001b[39;00m \u001b[38;5;28mself\u001b[39m\u001b[38;5;241m.\u001b[39msuppress_ragged_eofs:\n",
      "\u001b[1;31mKeyboardInterrupt\u001b[0m: "
     ]
    }
   ],
   "source": [
    "if __name__ == \"__main__\":\n",
    "    trading_pair = 'BTCUSDT'\n",
    "    run_websocket_for_pairs(pair)"
   ]
  },
  {
   "cell_type": "code",
   "execution_count": null,
   "id": "be100ccb-ed6f-4abd-be6d-f21ea432fcb3",
   "metadata": {},
   "outputs": [],
   "source": []
  },
  {
   "cell_type": "code",
   "execution_count": null,
   "id": "b06af90c-18a9-44d3-ae88-01a91588f9cf",
   "metadata": {},
   "outputs": [],
   "source": []
  },
  {
   "cell_type": "code",
   "execution_count": null,
   "id": "c0993021-e537-4035-b129-60eaa32b0e4a",
   "metadata": {},
   "outputs": [],
   "source": []
  },
  {
   "cell_type": "code",
   "execution_count": null,
   "id": "ff0fb808-44f1-4c47-bad5-db612923d47d",
   "metadata": {},
   "outputs": [],
   "source": []
  }
 ],
 "metadata": {
  "kernelspec": {
   "display_name": "Python 3 (ipykernel)",
   "language": "python",
   "name": "python3"
  },
  "language_info": {
   "codemirror_mode": {
    "name": "ipython",
    "version": 3
   },
   "file_extension": ".py",
   "mimetype": "text/x-python",
   "name": "python",
   "nbconvert_exporter": "python",
   "pygments_lexer": "ipython3",
   "version": "3.12.4"
  }
 },
 "nbformat": 4,
 "nbformat_minor": 5
}
